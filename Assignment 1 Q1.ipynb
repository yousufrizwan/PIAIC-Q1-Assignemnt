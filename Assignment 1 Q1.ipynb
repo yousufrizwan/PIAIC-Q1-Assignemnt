{
 "cells": [
  {
   "cell_type": "code",
   "execution_count": 1,
   "metadata": {},
   "outputs": [
    {
     "name": "stdout",
     "output_type": "stream",
     "text": [
      "Enter the radius of the Circle 5\n",
      "78.55\n"
     ]
    }
   ],
   "source": [
    "#Write a Python program which accepts the radius of a circle from the user and compute the area.\n",
    "radius=float(input(\"Enter the radius of the Circle \"))\n",
    "Area=3.142*(radius)**2\n",
    "print(Area)"
   ]
  },
  {
   "cell_type": "code",
   "execution_count": 2,
   "metadata": {},
   "outputs": [
    {
     "name": "stdout",
     "output_type": "stream",
     "text": [
      "Enter the numerator8\n",
      "Enter the denominator2\n",
      " It is Divisible\n"
     ]
    }
   ],
   "source": [
    "#Write a Python program to check whether a number is completely divisible by another number. Accept two integer values form the user\n",
    "number=int(input(\"Enter the numerator\"))\n",
    "denominator=int(input(\"Enter the denominator\"))\n",
    "if number%denominator==0:\n",
    "    print(\" It is Divisible\")\n",
    "else:\n",
    "    print(\"It is Not divisible\")"
   ]
  },
  {
   "cell_type": "code",
   "execution_count": 3,
   "metadata": {},
   "outputs": [
    {
     "name": "stdout",
     "output_type": "stream",
     "text": [
      "Enter the number5\n",
      "It is an Odd Number\n"
     ]
    }
   ],
   "source": [
    "#Write a Python program to find whether a given number (accept from the user) is even or odd, print out an appropriate message to the user\n",
    "number=int(input(\"Enter the number\"))\n",
    "if number%2==0:\n",
    "    print(\"It is an Even Number\")\n",
    "else:\n",
    "    print(\"It is an Odd Number\")"
   ]
  },
  {
   "cell_type": "code",
   "execution_count": 4,
   "metadata": {},
   "outputs": [
    {
     "name": "stdout",
     "output_type": "stream",
     "text": [
      "Enter the alphabet , Only in lower caseY\n",
      "Not vowel\n"
     ]
    }
   ],
   "source": [
    "#Write a Python program to test whether a passed letter is a vowel or not\n",
    "vowel=['a','e','i','o','u']\n",
    "alpha=input(\"Enter the alphabet , Only in lower case\")\n",
    "for b in vowel:\n",
    "    if alpha==b:\n",
    "        print('Vowel')\n",
    "    else:\n",
    "        print('Not vowel')\n",
    "    break"
   ]
  },
  {
   "cell_type": "code",
   "execution_count": 5,
   "metadata": {},
   "outputs": [
    {
     "name": "stdout",
     "output_type": "stream",
     "text": [
      "Enter the radius of sphere8\n",
      "2144.9386666666664\n"
     ]
    }
   ],
   "source": [
    "#Write a Python program to get the volume of a sphere, please take the radius as input from user\n",
    "radius=float(input(\"Enter the radius of sphere\"))\n",
    "Volume=(4/3)*3.142*(radius)**3\n",
    "print(Volume)"
   ]
  },
  {
   "cell_type": "code",
   "execution_count": 6,
   "metadata": {},
   "outputs": [
    {
     "name": "stdout",
     "output_type": "stream",
     "text": [
      "Enter the number45\n",
      "Positive\n"
     ]
    }
   ],
   "source": [
    "#Write a Python program to check if a number is positive, negative or zero\n",
    "number=float(input(\"Enter the number\"))\n",
    "if number>0:\n",
    "    print(\"Positive\")\n",
    "elif number<0:\n",
    "    print(\"Negative\")\n",
    "elif number==0:\n",
    "    print(\"zero\")"
   ]
  },
  {
   "cell_type": "code",
   "execution_count": 7,
   "metadata": {},
   "outputs": [
    {
     "name": "stdout",
     "output_type": "stream",
     "text": [
      "Enter x12\n",
      "Enter x24\n",
      "Enter y16\n",
      "Enter y22\n",
      "4.47213595499958\n"
     ]
    }
   ],
   "source": [
    "#Write a Python program to compute the distance between the points (x1, y1) and (x2, y2).\n",
    "import math\n",
    "x1=int(input(\"Enter x1\"))\n",
    "x2=int(input('Enter x2'))\n",
    "y1=int(input('Enter y1'))\n",
    "y2=int(input('Enter y2'))\n",
    "distance1=((x2-x1)**2)+((y2-y1)**2)\n",
    "distance=math.sqrt(distance1)\n",
    "print(distance)"
   ]
  },
  {
   "cell_type": "code",
   "execution_count": 8,
   "metadata": {},
   "outputs": [
    {
     "name": "stdout",
     "output_type": "stream",
     "text": [
      "Enter the height4\n",
      "Enter the base2\n",
      "4.0\n"
     ]
    }
   ],
   "source": [
    "#Write a Python program that will accept the base and height of a triangle and compute the area\n",
    "X=int(input(\"Enter the height\"))\n",
    "Y=int(input(\"Enter the base\"))\n",
    "area=(1/2)*(X)*(Y)\n",
    "print(area)"
   ]
  },
  {
   "cell_type": "code",
   "execution_count": 1,
   "metadata": {},
   "outputs": [
    {
     "name": "stdout",
     "output_type": "stream",
     "text": [
      "Enter any decimal number: 10\n",
      "1010"
     ]
    }
   ],
   "source": [
    "#Write a Python program to convert an decimal integer to binary\n",
    "def decimalToBinary(num):\n",
    "    if num > 1:\n",
    "        decimalToBinary(num//2)\n",
    "    print(num % 2, end='')\n",
    "\n",
    "number = int(input(\"Enter any decimal number: \"))\n",
    "decimalToBinary(number)"
   ]
  },
  {
   "cell_type": "code",
   "execution_count": 64,
   "metadata": {},
   "outputs": [
    {
     "name": "stdout",
     "output_type": "stream",
     "text": [
      "Enter principal (Orignal) ammount1000\n",
      "Enter intrest rate in %10\n",
      "Enter the time in Years1\n",
      "1100.0\n"
     ]
    }
   ],
   "source": [
    "#Write a Python program to compute the future value of a specified principal amount, rate of interest, and a number of years\n",
    "Principle=int(input('Enter principal (Orignal) ammount'))\n",
    "R=float(input('Enter intrest rate in %'))\n",
    "T=int(input('Enter the time in Years'))\n",
    "Int=Principle*T*(R/100)\n",
    "final=Int+Principle\n",
    "print(final)\n"
   ]
  },
  {
   "cell_type": "code",
   "execution_count": 11,
   "metadata": {},
   "outputs": [
    {
     "name": "stdout",
     "output_type": "stream",
     "text": [
      "Enter the height4\n",
      "height in centimeter is 122.0\n"
     ]
    }
   ],
   "source": [
    "#Write a Python program to convert height in feet to centimetres.\n",
    "foot=float(input(\"Enter the height\"))\n",
    "cm=foot*30.5\n",
    "print('height in centimeter is',cm)\n"
   ]
  },
  {
   "cell_type": "code",
   "execution_count": 32,
   "metadata": {},
   "outputs": [
    {
     "name": "stdout",
     "output_type": "stream",
     "text": [
      "Enter your weight in kg100\n",
      "Enter your height in centimeters182\n",
      "30.189590629151066\n"
     ]
    }
   ],
   "source": [
    "#Write a Python program to calculate body mass index\n",
    "wght=float(input('Enter your weight in kg'))\n",
    "height=float(input('Enter your height in centimeters'))\n",
    "height1= height/100\n",
    "height1 = height1*height1\n",
    "final = wght/height1\n",
    "print(final)"
   ]
  },
  {
   "cell_type": "code",
   "execution_count": 40,
   "metadata": {},
   "outputs": [
    {
     "name": "stdout",
     "output_type": "stream",
     "text": [
      "Please Enter any Number: 15\n",
      "\n",
      " Sum of the digits of Given Number = 6\n"
     ]
    }
   ],
   "source": [
    "#Write a Python program to calculate the sum of the digits in an integer\n",
    "Num = int(input(\"Please Enter any Number: \"))\n",
    "Sum = 0\n",
    "\n",
    "while(Num > 0):\n",
    "    Reminder = Num % 10\n",
    "    Sum = Sum + Reminder\n",
    "    Num = Num //10\n",
    "\n",
    "print(\"\\n Sum of the digits of Given Number = %d\" %Sum)"
   ]
  },
  {
   "cell_type": "code",
   "execution_count": 42,
   "metadata": {},
   "outputs": [
    {
     "name": "stdout",
     "output_type": "stream",
     "text": [
      "Enter the integer Value 5\n",
      "sum of values till 5  is  15.0\n"
     ]
    }
   ],
   "source": [
    "#Write a python program to sum of the first n positive integers \n",
    "a=int(input('Enter the integer Value '))\n",
    "final=(a/2)*(2+(a-1))\n",
    "print(\"sum of values till\",n,\" is \",total)\n"
   ]
  },
  {
   "cell_type": "code",
   "execution_count": 63,
   "metadata": {},
   "outputs": [
    {
     "name": "stdout",
     "output_type": "stream",
     "text": [
      "Enter the phrasehi\n",
      "How many times to repeat the Phrase?2\n",
      "hihi\n"
     ]
    }
   ],
   "source": [
    "#Write a Python program to get a string which is n (non-negative integer) copies of a given string.\n",
    "str1=input('Enter the phrase')\n",
    "num=int(input('How many times to repeat the Phrase?' ))\n",
    "print(str1*num)\n"
   ]
  },
  {
   "cell_type": "code",
   "execution_count": 62,
   "metadata": {},
   "outputs": [
    {
     "name": "stdout",
     "output_type": "stream",
     "text": [
      "\n",
      "* \n",
      "* * \n",
      "* * * \n",
      "* * * * \n",
      "* * * * * \n",
      "* * * * * * \n",
      "* * * * * * * \n",
      "* * * * * * * * \n",
      "* * * * * * * * * \n",
      "* * * * * * * * * * \n",
      "* * * * * * * * * \n",
      "* * * * * * * * \n",
      "* * * * * * * \n",
      "* * * * * * \n",
      "* * * * * \n",
      "* * * * \n",
      "* * * \n",
      "* * \n",
      "* \n"
     ]
    }
   ],
   "source": [
    "#Write a Python program to construct the following pattern\n",
    "u=10;\n",
    "for a in range(u):\n",
    "    for b in range(a):\n",
    "        print ('* ', end=\"\")\n",
    "    print('')\n",
    "\n",
    "for a in range(u,0,-1):\n",
    "    for b in range(a):\n",
    "        print('* ', end=\"\")\n",
    "    print('')\n"
   ]
  },
  {
   "cell_type": "code",
   "execution_count": 4,
   "metadata": {},
   "outputs": [
    {
     "name": "stdout",
     "output_type": "stream",
     "text": [
      "Enter First Date: 1\n",
      "Enter First Month: 5\n",
      "Enter First Year: 19\n",
      "Enter Second Date: 18\n",
      "Enter Second Month: 6\n",
      "Enter Second Year: 19\n",
      "First Date: 1/5/19\n",
      "Second Date: 18/6/19\n",
      "47\n"
     ]
    }
   ],
   "source": [
    "#Write a Python program to calculate number of days between two dates\n",
    "\n",
    "D1 = int(input(\"Enter First Date: \"))\n",
    "M1 = int(input(\"Enter First Month: \"))\n",
    "Y1 = int(input(\"Enter First Year: \"))\n",
    "\n",
    "D2 = int(input(\"Enter Second Date: \"))\n",
    "M2 = int(input(\"Enter Second Month: \"))\n",
    "Y2 = int(input(\"Enter Second Year: \"))\n",
    "\n",
    "print(\"First Date: \"+str(D1)+\"/\"+str(M1)+\"/\"+str(Y1))\n",
    "print(\"Second Date: \"+str(D2)+\"/\"+str(M2)+\"/\"+str(Y2))\n",
    "\n",
    "D = (D2 - D1)*1\n",
    "M = (M2 - M1)*30\n",
    "Y = (Y2 - Y1)*365\n",
    "\n",
    "F = (D+M+Y)\n",
    "print(str(F))            "
   ]
  },
  {
   "cell_type": "code",
   "execution_count": 22,
   "metadata": {},
   "outputs": [
    {
     "name": "stdout",
     "output_type": "stream",
     "text": [
      "\n",
      "1 \n",
      "1 2 \n",
      "1 2 3 \n",
      "1 2 3 4 \n",
      "1 2 3 4 5 \n",
      "1 2 3 4 \n",
      "1 2 3 \n",
      "1 2 \n",
      "1 \n"
     ]
    }
   ],
   "source": [
    "#Write a Python program to construct the following pattern\n",
    "\n",
    "n=5;\n",
    "\n",
    "for a in range(n):\n",
    "    for b in range(a):\n",
    "        print (b+1, end=\" \")\n",
    "    print('')\n",
    "\n",
    "for a in range(n,0,-1):\n",
    "    for b in range(a):\n",
    "        print(b+1, end=\" \")\n",
    "    print('')\n"
   ]
  },
  {
   "cell_type": "code",
   "execution_count": 1,
   "metadata": {},
   "outputs": [
    {
     "name": "stdout",
     "output_type": "stream",
     "text": [
      "\n",
      "1\n",
      "22\n",
      "333\n",
      "4444\n",
      "55555\n",
      "666666\n",
      "7777777\n",
      "88888888\n",
      "999999999\n"
     ]
    }
   ],
   "source": [
    "#Write a Python program to construct the following pattern\n",
    "\n",
    "for i in range(10):\n",
    "    print(str(i) * i)\n"
   ]
  },
  {
   "cell_type": "code",
   "execution_count": 71,
   "metadata": {},
   "outputs": [
    {
     "name": "stdout",
     "output_type": "stream",
     "text": [
      "Enter number in Binary Format: 10\n",
      "10 in Decimal is = 2\n"
     ]
    }
   ],
   "source": [
    "#Write a program to convert binary number to Decimal number\n",
    "\n",
    "binary = input(\"Enter number in Binary Format: \");\n",
    "if binary == 'x':\n",
    "    exit();\n",
    "else:\n",
    "    decimal = int(binary, 2);\n",
    "    print(binary,\"in Decimal is =\",decimal);\n",
    "\n"
   ]
  },
  {
   "cell_type": "code",
   "execution_count": 72,
   "metadata": {},
   "outputs": [
    {
     "name": "stdout",
     "output_type": "stream",
     "text": [
      "Please Enter Your Own String : hello\n",
      "Total Number of Vowels in this String =  2\n",
      "Total Number of Consonants in this String =  3\n"
     ]
    }
   ],
   "source": [
    "#Input a text and count the occurrences of vowels and consonant\n",
    "str1 = input(\"Please Enter Your Own String : \")\n",
    "vowels = 0\n",
    "consonants = 0\n",
    "\n",
    "for i in str1:\n",
    "    if(i == 'a' or i == 'e' or i == 'i' or i == 'o' or i == 'u'\n",
    "       or i == 'A' or i == 'E' or i == 'I' or i == 'O' or i == 'U'):\n",
    "        vowels = vowels + 1\n",
    "    else:\n",
    "        consonants = consonants + 1\n",
    " \n",
    "print(\"Total Number of Vowels in this String = \", vowels)\n",
    "print(\"Total Number of Consonants in this String = \", consonants)"
   ]
  },
  {
   "cell_type": "code",
   "execution_count": 75,
   "metadata": {},
   "outputs": [
    {
     "name": "stdout",
     "output_type": "stream",
     "text": [
      "Please enter your own String : hellolleh\n",
      "This is a Palindrome String\n"
     ]
    }
   ],
   "source": [
    "#Write a program to check whether given input is palindrome or not\n",
    "\n",
    "string = input(\"Please enter your own String : \")\n",
    "\n",
    "if(string == string[:: - 1]):\n",
    "   print(\"This is a Palindrome String\")\n",
    "else:\n",
    "   print(\"This is Not a Palindrome String\")"
   ]
  },
  {
   "cell_type": "code",
   "execution_count": 76,
   "metadata": {},
   "outputs": [
    {
     "name": "stdout",
     "output_type": "stream",
     "text": [
      "Please Enter your Own String : vblnoihY#0*)023jgm2-539\n",
      "\n",
      "Total Number of Alphabets in this String :   11\n",
      "Total Number of Digits in this String :   8\n",
      "Total Number of Special Characters in this String :   4\n"
     ]
    }
   ],
   "source": [
    "#Write a Python program that accepts a string and calculate the number of digits and letters\n",
    "\n",
    "string = input(\"Please Enter your Own String : \")\n",
    "alphabets = digits = special = 0\n",
    "\n",
    "for i in range(len(string)):\n",
    "    if(string[i].isalpha()):\n",
    "        alphabets = alphabets + 1\n",
    "    elif(string[i].isdigit()):\n",
    "        digits = digits + 1\n",
    "    else:\n",
    "        special = special + 1\n",
    "        \n",
    "print(\"\\nTotal Number of Alphabets in this String :  \", alphabets)\n",
    "print(\"Total Number of Digits in this String :  \", digits)\n",
    "print(\"Total Number of Special Characters in this String :  \", special)"
   ]
  },
  {
   "cell_type": "code",
   "execution_count": null,
   "metadata": {},
   "outputs": [],
   "source": []
  }
 ],
 "metadata": {
  "kernelspec": {
   "display_name": "Python 3",
   "language": "python",
   "name": "python3"
  },
  "language_info": {
   "codemirror_mode": {
    "name": "ipython",
    "version": 3
   },
   "file_extension": ".py",
   "mimetype": "text/x-python",
   "name": "python",
   "nbconvert_exporter": "python",
   "pygments_lexer": "ipython3",
   "version": "3.7.3"
  }
 },
 "nbformat": 4,
 "nbformat_minor": 2
}
